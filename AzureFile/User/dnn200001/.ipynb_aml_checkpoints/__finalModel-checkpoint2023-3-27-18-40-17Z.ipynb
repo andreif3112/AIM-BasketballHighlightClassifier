{
  "cells": [
    {
      "cell_type": "code",
      "source": [
        "showYOLO = False"
      ],
      "outputs": [],
      "execution_count": 1,
      "metadata": {
        "jupyter": {
          "source_hidden": false,
          "outputs_hidden": false
        },
        "nteract": {
          "transient": {
            "deleting": false
          }
        },
        "gather": {
          "logged": 1682620199566
        }
      }
    },
    {
      "cell_type": "code",
      "source": [
        "\r\n",
        "%cd ~/cloudfiles/code/Users/dnn200001/yolov5\r\n",
        "# install dependencies as necessary\r\n",
        "#!pip install -qr requirements.txt  # install dependencies (ignore errors)\r\n",
        "import torch\r\n",
        "\r\n",
        "from IPython.display import Image, clear_output  # to display images\r\n",
        "from utils.downloads import attempt_download  # to download models/datasets\r\n",
        "\r\n",
        "# clear_output()\r\n",
        "print('Setup complete. Using torch %s %s' % (torch.__version__, torch.cuda.get_device_properties(0) if torch.cuda.is_available() else 'CPU'))"
      ],
      "outputs": [
        {
          "output_type": "stream",
          "name": "stdout",
          "text": "/mnt/batch/tasks/shared/LS_root/mounts/clusters/gpu-inference/code/Users/dnn200001/yolov5\nSetup complete. Using torch 1.12.0 _CudaDeviceProperties(name='Tesla K80', major=3, minor=7, total_memory=11441MB, multi_processor_count=13)\n"
        },
        {
          "output_type": "stream",
          "name": "stderr",
          "text": "/anaconda/envs/azureml_py38_PT_TF/lib/python3.8/site-packages/tqdm/auto.py:22: TqdmWarning: IProgress not found. Please update jupyter and ipywidgets. See https://ipywidgets.readthedocs.io/en/stable/user_install.html\n  from .autonotebook import tqdm as notebook_tqdm\n"
        }
      ],
      "execution_count": 2,
      "metadata": {
        "jupyter": {
          "source_hidden": false,
          "outputs_hidden": true
        },
        "nteract": {
          "transient": {
            "deleting": false
          }
        },
        "gather": {
          "logged": 1682620200460
        }
      }
    },
    {
      "cell_type": "code",
      "source": [
        "%cd ~/cloudfiles/code/Users/dnn200001\r\n",
        "\r\n",
        "import os\r\n",
        "import urllib.error\r\n",
        "import urllib.request\r\n",
        "\r\n",
        "import csv\r\n",
        "import cv2\r\n",
        "import itertools\r\n",
        "import numpy as np\r\n",
        "import pandas as pd\r\n",
        "import os\r\n",
        "import shutil\r\n",
        "import sys\r\n",
        "import tempfile\r\n",
        "import tqdm\r\n",
        "\r\n",
        "from matplotlib import pyplot as plt\r\n",
        "from matplotlib.collections import LineCollection\r\n",
        "\r\n",
        "import tensorflow as tf\r\n",
        "import tensorflow_hub as hub\r\n",
        "from tensorflow import keras\r\n",
        "\r\n",
        "from sklearn.model_selection import train_test_split\r\n",
        "from sklearn.metrics import accuracy_score, classification_report, confusion_matrix"
      ],
      "outputs": [
        {
          "output_type": "stream",
          "name": "stdout",
          "text": "/mnt/batch/tasks/shared/LS_root/mounts/clusters/gpu-inference/code/Users/dnn200001\n"
        },
        {
          "output_type": "stream",
          "name": "stderr",
          "text": "2023-04-27 18:30:00.890724: I tensorflow/core/platform/cpu_feature_guard.cc:193] This TensorFlow binary is optimized with oneAPI Deep Neural Network Library (oneDNN) to use the following CPU instructions in performance-critical operations:  AVX2 FMA\nTo enable them in other operations, rebuild TensorFlow with the appropriate compiler flags.\n2023-04-27 18:30:01.971585: W tensorflow/compiler/xla/stream_executor/platform/default/dso_loader.cc:64] Could not load dynamic library 'libnvinfer.so.7'; dlerror: libnvinfer.so.7: cannot open shared object file: No such file or directory; LD_LIBRARY_PATH: /anaconda/envs/azureml_py38_PT_TF/lib/python3.8/site-packages/cv2/../../lib64:\n2023-04-27 18:30:01.971682: W tensorflow/compiler/xla/stream_executor/platform/default/dso_loader.cc:64] Could not load dynamic library 'libnvinfer_plugin.so.7'; dlerror: libnvinfer_plugin.so.7: cannot open shared object file: No such file or directory; LD_LIBRARY_PATH: /anaconda/envs/azureml_py38_PT_TF/lib/python3.8/site-packages/cv2/../../lib64:\n2023-04-27 18:30:01.971694: W tensorflow/compiler/tf2tensorrt/utils/py_utils.cc:38] TF-TRT Warning: Cannot dlopen some TensorRT libraries. If you would like to use Nvidia GPU with TensorRT, please make sure the missing libraries mentioned above are installed properly.\n"
        }
      ],
      "execution_count": 3,
      "metadata": {
        "jupyter": {
          "source_hidden": false,
          "outputs_hidden": false
        },
        "nteract": {
          "transient": {
            "deleting": false
          }
        },
        "gather": {
          "logged": 1682620203447
        }
      }
    },
    {
      "cell_type": "code",
      "source": [
        "pose_sample_rpi_path = os.path.join(os.getcwd(), 'examples/lite/examples/pose_estimation/raspberry_pi')\r\n",
        "sys.path.append(pose_sample_rpi_path)\r\n",
        "\r\n",
        "# Load MoveNet Thunder model\r\n",
        "import utils\r\n",
        "from data import BodyPart\r\n",
        "from ml import Movenet\r\n",
        "movenet = Movenet('movenet_thunder')\r\n",
        "\r\n",
        "# Define function to run pose estimation using MoveNet Thunder.\r\n",
        "# You'll apply MoveNet's cropping algorithm and run inference multiple times on\r\n",
        "# the input image to improve pose estimation accuracy.\r\n",
        "def detect(input_tensor, inference_count=3):\r\n",
        "  \"\"\"Runs detection on an input image.\r\n",
        " \r\n",
        "  Args:\r\n",
        "    input_tensor: A [height, width, 3] Tensor of type tf.float32.\r\n",
        "      Note that height and width can be anything since the image will be\r\n",
        "      immediately resized according to the needs of the model within this\r\n",
        "      function.\r\n",
        "    inference_count: Number of times the model should run repeatly on the\r\n",
        "      same input image to improve detection accuracy.\r\n",
        " \r\n",
        "  Returns:\r\n",
        "    A Person entity detected by the MoveNet.SinglePose.\r\n",
        "  \"\"\"\r\n",
        "  image_height, image_width, channel = input_tensor.shape\r\n",
        " \r\n",
        "  # Detect pose using the full input image\r\n",
        "  movenet.detect(input_tensor.numpy(), reset_crop_region=True)\r\n",
        " \r\n",
        "  # Repeatedly using previous detection result to identify the region of\r\n",
        "  # interest and only croping that region to improve detection accuracy\r\n",
        "  for _ in range(inference_count - 1):\r\n",
        "    person = movenet.detect(input_tensor.numpy(), \r\n",
        "                            reset_crop_region=False)\r\n",
        "\r\n",
        "  return person"
      ],
      "outputs": [
        {
          "output_type": "stream",
          "name": "stderr",
          "text": "INFO: Created TensorFlow Lite XNNPACK delegate for CPU.\n"
        }
      ],
      "execution_count": 4,
      "metadata": {
        "jupyter": {
          "source_hidden": false,
          "outputs_hidden": false
        },
        "nteract": {
          "transient": {
            "deleting": false
          }
        },
        "gather": {
          "logged": 1682620204681
        }
      }
    },
    {
      "cell_type": "code",
      "source": [
        "#@title Functions to visualize the pose estimation results.\r\n",
        "\r\n",
        "def draw_prediction_on_image(\r\n",
        "    image, person, crop_region=None, close_figure=True,\r\n",
        "    keep_input_size=False):\r\n",
        "  \"\"\"Draws the keypoint predictions on image.\r\n",
        " \r\n",
        "  Args:\r\n",
        "    image: An numpy array with shape [height, width, channel] representing the\r\n",
        "      pixel values of the input image.\r\n",
        "    person: A person entity returned from the MoveNet.SinglePose model.\r\n",
        "    close_figure: Whether to close the plt figure after the function returns.\r\n",
        "    keep_input_size: Whether to keep the size of the input image.\r\n",
        " \r\n",
        "  Returns:\r\n",
        "    An numpy array with shape [out_height, out_width, channel] representing the\r\n",
        "    image overlaid with keypoint predictions.\r\n",
        "  \"\"\"\r\n",
        "  # Draw the detection result on top of the image.\r\n",
        "  image_np = utils.visualize(image, [person])\r\n",
        "  \r\n",
        "  # Plot the image with detection results.\r\n",
        "  height, width, channel = image.shape\r\n",
        "  aspect_ratio = float(width) / height\r\n",
        "  fig, ax = plt.subplots(figsize=(12 * aspect_ratio, 12))\r\n",
        "  im = ax.imshow(image_np)\r\n",
        " \r\n",
        "  if close_figure:\r\n",
        "    plt.close(fig)\r\n",
        " \r\n",
        "  if not keep_input_size:\r\n",
        "    image_np = utils.keep_aspect_ratio_resizer(image_np, (512, 512))\r\n",
        "\r\n",
        "  return image_np"
      ],
      "outputs": [],
      "execution_count": 5,
      "metadata": {
        "jupyter": {
          "source_hidden": false,
          "outputs_hidden": false
        },
        "nteract": {
          "transient": {
            "deleting": false
          }
        },
        "gather": {
          "logged": 1682620204828
        }
      }
    },
    {
      "cell_type": "code",
      "source": [
        "#@title Code to load the images, detect pose landmarks and save them into a CSV file\r\n",
        "\r\n",
        "class MoveNetPreprocessor(object):\r\n",
        "  \"\"\"Helper class to preprocess pose sample images for classification.\"\"\"\r\n",
        " \r\n",
        "  def __init__(self,\r\n",
        "               images_in_folder,\r\n",
        "               images_out_folder,\r\n",
        "               csvs_out_path):\r\n",
        "    \"\"\"Creates a preprocessor to detection pose from images and save as CSV.\r\n",
        "\r\n",
        "    Args:\r\n",
        "      images_in_folder: Path to the folder with the input images. It should\r\n",
        "        follow this structure:\r\n",
        "        yoga_poses\r\n",
        "        |__ downdog\r\n",
        "            |______ 00000128.jpg\r\n",
        "            |______ 00000181.bmp\r\n",
        "            |______ ...\r\n",
        "        |__ goddess\r\n",
        "            |______ 00000243.jpg\r\n",
        "            |______ 00000306.jpg\r\n",
        "            |______ ...\r\n",
        "        ...\r\n",
        "      images_out_folder: Path to write the images overlay with detected\r\n",
        "        landmarks. These images are useful when you need to debug accuracy\r\n",
        "        issues.\r\n",
        "      csvs_out_path: Path to write the CSV containing the detected landmark\r\n",
        "        coordinates and label of each image that can be used to train a pose\r\n",
        "        classification model.\r\n",
        "    \"\"\"\r\n",
        "    self._images_in_folder = images_in_folder\r\n",
        "    self._images_out_folder = images_out_folder\r\n",
        "    self._csvs_out_path = csvs_out_path\r\n",
        "    self._messages = []\r\n",
        "\r\n",
        "    # Create a temp dir to store the pose CSVs per class\r\n",
        "    self._csvs_out_folder_per_class = tempfile.mkdtemp()\r\n",
        " \r\n",
        "    # Get list of pose classes and print image statistics\r\n",
        "    self._pose_class_names = sorted(\r\n",
        "        [n for n in os.listdir(self._images_in_folder) if not n.startswith('.')]\r\n",
        "        )\r\n",
        "    \r\n",
        "  def process(self, per_pose_class_limit=None, detection_threshold=0.1):\r\n",
        "    \"\"\"Preprocesses images in the given folder.\r\n",
        "    Args:\r\n",
        "      per_pose_class_limit: Number of images to load. As preprocessing usually\r\n",
        "        takes time, this parameter can be specified to make the reduce of the\r\n",
        "        dataset for testing.\r\n",
        "      detection_threshold: Only keep images with all landmark confidence score\r\n",
        "        above this threshold.\r\n",
        "    \"\"\"\r\n",
        "    # Loop through the classes and preprocess its images\r\n",
        "    for pose_class_name in self._pose_class_names:\r\n",
        "      print('Preprocessing', pose_class_name, file=sys.stderr)\r\n",
        "\r\n",
        "      # Paths for the pose class.\r\n",
        "      images_in_folder = os.path.join(self._images_in_folder, pose_class_name)\r\n",
        "      images_out_folder = os.path.join(self._images_out_folder, pose_class_name)\r\n",
        "      csv_out_path = os.path.join(self._csvs_out_folder_per_class,\r\n",
        "                                  pose_class_name + '.csv')\r\n",
        "      if not os.path.exists(images_out_folder):\r\n",
        "        os.makedirs(images_out_folder)\r\n",
        " \r\n",
        "      # Detect landmarks in each image and write it to a CSV file\r\n",
        "      with open(csv_out_path, 'w') as csv_out_file:\r\n",
        "        csv_out_writer = csv.writer(csv_out_file, \r\n",
        "                                    delimiter=',', \r\n",
        "                                    quoting=csv.QUOTE_MINIMAL)\r\n",
        "        # Get list of images\r\n",
        "        image_names = sorted(\r\n",
        "            [n for n in os.listdir(images_in_folder) if not n.startswith('.')])\r\n",
        "        if per_pose_class_limit is not None:\r\n",
        "          image_names = image_names[:per_pose_class_limit]\r\n",
        "\r\n",
        "        valid_image_count = 0\r\n",
        " \r\n",
        "        # Detect pose landmarks from each image\r\n",
        "        for image_name in tqdm.tqdm(image_names):\r\n",
        "          image_path = os.path.join(images_in_folder, image_name)\r\n",
        "\r\n",
        "          try:\r\n",
        "            image = tf.io.read_file(image_path)\r\n",
        "            image = tf.io.decode_jpeg(image)\r\n",
        "          except:\r\n",
        "            self._messages.append('Skipped ' + image_path + '. Invalid image.')\r\n",
        "            continue\r\n",
        "          else:\r\n",
        "            image = tf.io.read_file(image_path)\r\n",
        "            image = tf.io.decode_jpeg(image)\r\n",
        "            image_height, image_width, channel = image.shape\r\n",
        "          \r\n",
        "          # Skip images that isn't RGB because Movenet requires RGB images\r\n",
        "          if channel != 3:\r\n",
        "            self._messages.append('Skipped ' + image_path +\r\n",
        "                                  '. Image isn\\'t in RGB format.')\r\n",
        "            continue\r\n",
        "          person = detect(image)\r\n",
        "          \r\n",
        "          # Save landmarks if all landmarks were detected\r\n",
        "          min_landmark_score = min(\r\n",
        "              [keypoint.score for keypoint in person.keypoints])\r\n",
        "          should_keep_image = min_landmark_score >= detection_threshold\r\n",
        "          if not should_keep_image:\r\n",
        "\r\n",
        "            self._messages.append('Skipped ' + image_path +\r\n",
        "                                  '. No pose was confidentlly detected.')\r\n",
        "            continue\r\n",
        "\r\n",
        "          valid_image_count += 1\r\n",
        "\r\n",
        "          # # Draw the prediction result on top of the image for debugging later\r\n",
        "          \r\n",
        "          # output_overlay = draw_prediction_on_image(\r\n",
        "          #     image.numpy().astype(np.uint8), person, \r\n",
        "          #     close_figure=True, keep_input_size=True)\r\n",
        "        \r\n",
        "          # # Write detection result into an image file\r\n",
        "          # output_frame = cv2.cvtColor(output_overlay, cv2.COLOR_RGB2BGR)\r\n",
        "          # cv2.imwrite(os.path.join(images_out_folder, image_name), output_frame)\r\n",
        "        \r\n",
        "          # Get landmarks and scale it to the same size as the input image\r\n",
        "          pose_landmarks = np.array(\r\n",
        "              [[keypoint.coordinate.x, keypoint.coordinate.y, keypoint.score]\r\n",
        "                for keypoint in person.keypoints],\r\n",
        "              dtype=np.float32)\r\n",
        "\r\n",
        "          # Write the landmark coordinates to its per-class CSV file\r\n",
        "          coordinates = pose_landmarks.flatten().astype(np.str).tolist()\r\n",
        "          csv_out_writer.writerow([image_name] + coordinates)\r\n",
        "\r\n",
        "        if not valid_image_count:\r\n",
        "          raise RuntimeError(\r\n",
        "              'No valid images found for the \"{}\" class.'\r\n",
        "              .format(pose_class_name))\r\n",
        "        \r\n",
        "      \r\n",
        "    # Print the error message collected during preprocessing.\r\n",
        "    print('\\n'.join(self._messages))\r\n",
        "\r\n",
        "    # Combine all per-class CSVs into a single output file\r\n",
        "    all_landmarks_df = self._all_landmarks_as_dataframe()\r\n",
        "    all_landmarks_df.to_csv(self._csvs_out_path, index=False)\r\n",
        "\r\n",
        "  def class_names(self):\r\n",
        "    \"\"\"List of classes found in the training dataset.\"\"\"\r\n",
        "    return self._pose_class_names\r\n",
        "  \r\n",
        "  def _all_landmarks_as_dataframe(self):\r\n",
        "    \"\"\"Merge all per-class CSVs into a single dataframe.\"\"\"\r\n",
        "    total_df = None\r\n",
        "    for class_index, class_name in enumerate(self._pose_class_names):\r\n",
        "      csv_out_path = os.path.join(self._csvs_out_folder_per_class,\r\n",
        "                                  class_name + '.csv')\r\n",
        "      per_class_df = pd.read_csv(csv_out_path, header=None)\r\n",
        "      \r\n",
        "      # Add the labels\r\n",
        "      per_class_df['class_no'] = [class_index]*len(per_class_df)\r\n",
        "      per_class_df['class_name'] = [class_name]*len(per_class_df)\r\n",
        "\r\n",
        "      # Append the folder name to the filename column (first column)\r\n",
        "      per_class_df[per_class_df.columns[0]] = (os.path.join(class_name, '') \r\n",
        "        + per_class_df[per_class_df.columns[0]].astype(str))\r\n",
        "\r\n",
        "      if total_df is None:\r\n",
        "        # For the first class, assign its data to the total dataframe\r\n",
        "        total_df = per_class_df\r\n",
        "      else:\r\n",
        "        # Concatenate each class's data into the total dataframe\r\n",
        "        total_df = pd.concat([total_df, per_class_df], axis=0)\r\n",
        " \r\n",
        "    list_name = [[bodypart.name + '_x', bodypart.name + '_y', \r\n",
        "                  bodypart.name + '_score'] for bodypart in BodyPart] \r\n",
        "    header_name = []\r\n",
        "    for columns_name in list_name:\r\n",
        "      header_name += columns_name\r\n",
        "    header_name = ['file_name'] + header_name\r\n",
        "    header_map = {total_df.columns[i]: header_name[i] \r\n",
        "                  for i in range(len(header_name))}\r\n",
        " \r\n",
        "    total_df.rename(header_map, axis=1, inplace=True)\r\n",
        "\r\n",
        "    return total_df"
      ],
      "outputs": [],
      "execution_count": 6,
      "metadata": {
        "jupyter": {
          "source_hidden": false,
          "outputs_hidden": false
        },
        "nteract": {
          "transient": {
            "deleting": false
          }
        },
        "gather": {
          "logged": 1682620204967
        }
      }
    },
    {
      "cell_type": "code",
      "source": [
        "#download video based on the number of frames\r\n",
        "def extract_frames(video_url, frame_rate):\r\n",
        "    # Set the directory to store the frames\r\n",
        "    output_dir = 'output_frames'\r\n",
        "\r\n",
        "    # Create the directory if it does not exist\r\n",
        "    if not os.path.exists(output_dir):\r\n",
        "        os.makedirs(output_dir)\r\n",
        "    else:\r\n",
        "        shutil.rmtree(output_dir)\r\n",
        "        os.makedirs(output_dir)\r\n",
        "\r\n",
        "    try:\r\n",
        "        # Download the video with a fixed filename\r\n",
        "        filename = os.path.join(output_dir, 'my_video.mp4')\r\n",
        "        urllib.request.urlretrieve(video_url, filename)\r\n",
        "\r\n",
        "        # Open the video file\r\n",
        "        cap = cv2.VideoCapture(filename)\r\n",
        "\r\n",
        "        # Get the frame rate of the video\r\n",
        "        fps = cap.get(cv2.CAP_PROP_FPS)\r\n",
        "\r\n",
        "        # Calculate the number of frames to skip\r\n",
        "        frame_skip = int(fps / frame_rate)\r\n",
        "\r\n",
        "        # Initialize the frame counter\r\n",
        "        frame_count = 0\r\n",
        "\r\n",
        "        # Set the directory to store the frames\r\n",
        "        video_name = os.path.splitext(os.path.basename(filename))[0]\r\n",
        "        frames_dir = os.path.join(output_dir, f\"{video_name}_frames\")\r\n",
        "        if not os.path.exists(frames_dir):\r\n",
        "            os.makedirs(frames_dir)\r\n",
        "\r\n",
        "        # Read the frames from the video and save them to the output directory\r\n",
        "        while cap.isOpened():\r\n",
        "            ret, frame = cap.read()\r\n",
        "            if ret:\r\n",
        "                if frame_count % frame_skip == 0:\r\n",
        "                    frame_path = os.path.join(frames_dir, f'frame_{frame_count:05d}.jpg')\r\n",
        "                    cv2.imwrite(frame_path, frame)\r\n",
        "                frame_count += 1\r\n",
        "            else:\r\n",
        "                break\r\n",
        "\r\n",
        "        # Release the video capture object and delete the video file\r\n",
        "        cap.release()\r\n",
        "        os.remove(filename)\r\n",
        "\r\n",
        "        return frames_dir\r\n",
        "\r\n",
        "    except (urllib.error.HTTPError, urllib.error.URLError, cv2.error) as e:\r\n",
        "        print(f\"An error occurred while processing the video: {e}\")\r\n",
        "        return None\r\n"
      ],
      "outputs": [],
      "execution_count": 7,
      "metadata": {
        "jupyter": {
          "source_hidden": false,
          "outputs_hidden": false
        },
        "nteract": {
          "transient": {
            "deleting": false
          }
        },
        "gather": {
          "logged": 1682620205132
        }
      }
    },
    {
      "cell_type": "code",
      "source": [
        "def load_pose_landmarks(csv_path):\r\n",
        "  \"\"\"Loads a CSV created by MoveNetPreprocessor.\r\n",
        "  \r\n",
        "  Returns:\r\n",
        "    X: Detected landmark coordinates and scores of shape (N, 17 * 3)\r\n",
        "    y: Ground truth labels of shape (N, label_count)\r\n",
        "    classes: The list of all class names found in the dataset\r\n",
        "    dataframe: The CSV loaded as a Pandas dataframe features (X) and ground\r\n",
        "      truth labels (y) to use later to train a pose classification model.\r\n",
        "  \"\"\"\r\n",
        "\r\n",
        "  # Load the CSV file\r\n",
        "  dataframe = pd.read_csv(csv_path)\r\n",
        "  df_to_process = dataframe.copy()\r\n",
        "\r\n",
        "  # Drop the file_name columns as you don't need it during training.\r\n",
        "  df_to_process.drop(columns=['file_name'], inplace=True)\r\n",
        "\r\n",
        "  # Extract the list of class names\r\n",
        "  classes = df_to_process.pop('class_name')\r\n",
        "  # Extract the labels\r\n",
        "  y = df_to_process.pop('class_no')\r\n",
        "\r\n",
        "  # Convert the input features and labels into the correct format for training.\r\n",
        "  X = df_to_process.astype('float64')\r\n",
        "  y = keras.utils.to_categorical(y)\r\n",
        "\r\n",
        "  return X, y, classes, dataframe"
      ],
      "outputs": [],
      "execution_count": 8,
      "metadata": {
        "jupyter": {
          "source_hidden": false,
          "outputs_hidden": false
        },
        "nteract": {
          "transient": {
            "deleting": false
          }
        },
        "gather": {
          "logged": 1682620205272
        }
      }
    },
    {
      "cell_type": "code",
      "source": [
        "def poseInference(interpreter, X):\r\n",
        "  \"\"\"Evaluates the given TFLite model and return its accuracy.\"\"\"\r\n",
        "  input_index = interpreter.get_input_details()[0][\"index\"]\r\n",
        "  output_index = interpreter.get_output_details()[0][\"index\"]\r\n",
        "\r\n",
        "  # Run predictions on all given poses.\r\n",
        "  y_pred = []\r\n",
        "  for i in range(len(X)):\r\n",
        "    # Pre-processing: add batch dimension and convert to float32 to match with\r\n",
        "    # the model's input data format.\r\n",
        "    test_image = X[i: i + 1].astype('float32')\r\n",
        "    interpreter.set_tensor(input_index, test_image)\r\n",
        "\r\n",
        "    # Run inference.\r\n",
        "    interpreter.invoke()\r\n",
        "\r\n",
        "    # Post-processing: remove batch dimension and find the class with highest\r\n",
        "    # probability.\r\n",
        "    output = interpreter.tensor(output_index)\r\n",
        "    predicted_label = np.argmax(output()[0])\r\n",
        "    y_pred.append(predicted_label)\r\n",
        "\r\n",
        "  # Compare prediction results with ground truth labels to calculate accuracy.\r\n",
        "  return y_pred\r\n",
        "\r\n",
        "# Evaluate the accuracy of the converted TFLite model\r\n",
        "\r\n",
        "\r\n",
        "# Run predictions on the TFLite model\r\n",
        "\r\n",
        "\r\n",
        "\r\n",
        "#to do inference\r\n",
        "#X_test, y_test, _, df_test = load_pose_landmarks(csvs_out_test_path)\r\n",
        "###doInference(classifier_interpreter, X_test))"
      ],
      "outputs": [],
      "execution_count": 9,
      "metadata": {
        "jupyter": {
          "source_hidden": false,
          "outputs_hidden": false
        },
        "nteract": {
          "transient": {
            "deleting": false
          }
        },
        "gather": {
          "logged": 1682620205401
        }
      }
    },
    {
      "cell_type": "code",
      "source": [
        "%cd ~/cloudfiles/code/Users/dnn200001/\r\n",
        "\r\n",
        "DETECT_ROOT = \"Users/dnn200001/yolov5/runs/detect\"\r\n",
        "\r\n",
        "\r\n",
        "torch.cuda.empty_cache()\r\n",
        "tf.keras.backend.clear_session()\r\n",
        "\r\n",
        "fileName = \"MISS\"\r\n",
        "\r\n",
        "df = pd.read_csv(\"VideoLinks/\" + fileName + \".csv\")\r\n",
        "max = 2\r\n",
        "count = 0\r\n",
        "for index, row in df.iterrows():\r\n",
        "    count = count + 1\r\n",
        "    if count > max: break\r\n",
        "    url = row['link']\r\n",
        "    \r\n",
        "    print(url)\r\n",
        "    source = extract_frames(url, 4)\r\n",
        "    !python yolov5/detect.py --weights yolov5/runs/train/yolov5s_results/weights/last.pt --img 480 --conf 0.5 --source {source} --classes 3 --name MISS --save-crop --nosave\r\n"
      ],
      "outputs": [
        {
          "output_type": "stream",
          "name": "stdout",
          "text": "/mnt/batch/tasks/shared/LS_root/mounts/clusters/gpu-inference/code/Users/dnn200001\nhttps://videos.nba.com/nba/pbp/media/2014/10/29/0021400014/4/063bd16c-b31f-a552-d604-80db24080594_1280x720.mp4\n\u001b[34m\u001b[1mdetect: \u001b[0mweights=['yolov5/runs/train/yolov5s_results/weights/last.pt'], source=output_frames/my_video_frames, data=yolov5/data/coco128.yaml, imgsz=[480, 480], conf_thres=0.5, iou_thres=0.45, max_det=1000, device=, view_img=False, save_txt=False, save_conf=False, save_crop=True, nosave=True, classes=[3], agnostic_nms=False, augment=False, visualize=False, update=False, project=yolov5/runs/detect, name=MISS, exist_ok=False, line_thickness=3, hide_labels=False, hide_conf=False, half=False, dnn=False\nYOLOv5 🚀 v6.1-306-gfbe67e4 Python-3.8.10 torch-1.8.1+cu102 CUDA:0 (Tesla K80, 11441MiB)\n\nFusing layers... \ncustom_YOLOv5s summary: 232 layers, 7268094 parameters, 0 gradients, 16.8 GFLOPs\nimage 1/47 /mnt/batch/tasks/shared/LS_root/mounts/clusters/gpu-inference/code/Users/dnn200001/output_frames/my_video_frames/frame_00000.jpg: 288x480 6 Players, Done. (0.018s)\nimage 2/47 /mnt/batch/tasks/shared/LS_root/mounts/clusters/gpu-inference/code/Users/dnn200001/output_frames/my_video_frames/frame_00015.jpg: 288x480 6 Players, Done. (0.018s)\nimage 3/47 /mnt/batch/tasks/shared/LS_root/mounts/clusters/gpu-inference/code/Users/dnn200001/output_frames/my_video_frames/frame_00030.jpg: 288x480 6 Players, Done. (0.018s)\nimage 4/47 /mnt/batch/tasks/shared/LS_root/mounts/clusters/gpu-inference/code/Users/dnn200001/output_frames/my_video_frames/frame_00045.jpg: 288x480 8 Players, Done. (0.018s)\nimage 5/47 /mnt/batch/tasks/shared/LS_root/mounts/clusters/gpu-inference/code/Users/dnn200001/output_frames/my_video_frames/frame_00060.jpg: 288x480 6 Players, Done. (0.018s)\nimage 6/47 /mnt/batch/tasks/shared/LS_root/mounts/clusters/gpu-inference/code/Users/dnn200001/output_frames/my_video_frames/frame_00075.jpg: 288x480 7 Players, Done. (0.018s)\nimage 7/47 /mnt/batch/tasks/shared/LS_root/mounts/clusters/gpu-inference/code/Users/dnn200001/output_frames/my_video_frames/frame_00090.jpg: 288x480 7 Players, Done. (0.018s)\nimage 8/47 /mnt/batch/tasks/shared/LS_root/mounts/clusters/gpu-inference/code/Users/dnn200001/output_frames/my_video_frames/frame_00105.jpg: 288x480 8 Players, Done. (0.018s)\nimage 9/47 /mnt/batch/tasks/shared/LS_root/mounts/clusters/gpu-inference/code/Users/dnn200001/output_frames/my_video_frames/frame_00120.jpg: 288x480 6 Players, Done. (0.018s)\nimage 10/47 /mnt/batch/tasks/shared/LS_root/mounts/clusters/gpu-inference/code/Users/dnn200001/output_frames/my_video_frames/frame_00135.jpg: 288x480 6 Players, Done. (0.018s)\nimage 11/47 /mnt/batch/tasks/shared/LS_root/mounts/clusters/gpu-inference/code/Users/dnn200001/output_frames/my_video_frames/frame_00150.jpg: 288x480 5 Players, Done. (0.018s)\nimage 12/47 /mnt/batch/tasks/shared/LS_root/mounts/clusters/gpu-inference/code/Users/dnn200001/output_frames/my_video_frames/frame_00165.jpg: 288x480 4 Players, Done. (0.018s)\nimage 13/47 /mnt/batch/tasks/shared/LS_root/mounts/clusters/gpu-inference/code/Users/dnn200001/output_frames/my_video_frames/frame_00180.jpg: 288x480 6 Players, Done. (0.018s)\nimage 14/47 /mnt/batch/tasks/shared/LS_root/mounts/clusters/gpu-inference/code/Users/dnn200001/output_frames/my_video_frames/frame_00195.jpg: 288x480 4 Players, Done. (0.018s)\nimage 15/47 /mnt/batch/tasks/shared/LS_root/mounts/clusters/gpu-inference/code/Users/dnn200001/output_frames/my_video_frames/frame_00210.jpg: 288x480 3 Players, Done. (0.018s)\nimage 16/47 /mnt/batch/tasks/shared/LS_root/mounts/clusters/gpu-inference/code/Users/dnn200001/output_frames/my_video_frames/frame_00225.jpg: 288x480 6 Players, Done. (0.018s)\nimage 17/47 /mnt/batch/tasks/shared/LS_root/mounts/clusters/gpu-inference/code/Users/dnn200001/output_frames/my_video_frames/frame_00240.jpg: 288x480 6 Players, Done. (0.018s)\nimage 18/47 /mnt/batch/tasks/shared/LS_root/mounts/clusters/gpu-inference/code/Users/dnn200001/output_frames/my_video_frames/frame_00255.jpg: 288x480 7 Players, Done. (0.018s)\nimage 19/47 /mnt/batch/tasks/shared/LS_root/mounts/clusters/gpu-inference/code/Users/dnn200001/output_frames/my_video_frames/frame_00270.jpg: 288x480 7 Players, Done. (0.018s)\nimage 20/47 /mnt/batch/tasks/shared/LS_root/mounts/clusters/gpu-inference/code/Users/dnn200001/output_frames/my_video_frames/frame_00285.jpg: 288x480 6 Players, Done. (0.018s)\nimage 21/47 /mnt/batch/tasks/shared/LS_root/mounts/clusters/gpu-inference/code/Users/dnn200001/output_frames/my_video_frames/frame_00300.jpg: 288x480 3 Players, Done. (0.018s)\nimage 22/47 /mnt/batch/tasks/shared/LS_root/mounts/clusters/gpu-inference/code/Users/dnn200001/output_frames/my_video_frames/frame_00315.jpg: 288x480 2 Players, Done. (0.018s)\nimage 23/47 /mnt/batch/tasks/shared/LS_root/mounts/clusters/gpu-inference/code/Users/dnn200001/output_frames/my_video_frames/frame_00330.jpg: 288x480 Done. (0.018s)\nimage 24/47 /mnt/batch/tasks/shared/LS_root/mounts/clusters/gpu-inference/code/Users/dnn200001/output_frames/my_video_frames/frame_00345.jpg: 288x480 1 Player, Done. (0.018s)\nimage 25/47 /mnt/batch/tasks/shared/LS_root/mounts/clusters/gpu-inference/code/Users/dnn200001/output_frames/my_video_frames/frame_00360.jpg: 288x480 3 Players, Done. (0.018s)\nimage 26/47 /mnt/batch/tasks/shared/LS_root/mounts/clusters/gpu-inference/code/Users/dnn200001/output_frames/my_video_frames/frame_00375.jpg: 288x480 3 Players, Done. (0.018s)\nimage 27/47 /mnt/batch/tasks/shared/LS_root/mounts/clusters/gpu-inference/code/Users/dnn200001/output_frames/my_video_frames/frame_00390.jpg: 288x480 4 Players, Done. (0.018s)\nimage 28/47 /mnt/batch/tasks/shared/LS_root/mounts/clusters/gpu-inference/code/Users/dnn200001/output_frames/my_video_frames/frame_00405.jpg: 288x480 4 Players, Done. (0.018s)\nimage 29/47 /mnt/batch/tasks/shared/LS_root/mounts/clusters/gpu-inference/code/Users/dnn200001/output_frames/my_video_frames/frame_00420.jpg: 288x480 6 Players, Done. (0.018s)\nimage 30/47 /mnt/batch/tasks/shared/LS_root/mounts/clusters/gpu-inference/code/Users/dnn200001/output_frames/my_video_frames/frame_00435.jpg: 288x480 4 Players, Done. (0.018s)\nimage 31/47 /mnt/batch/tasks/shared/LS_root/mounts/clusters/gpu-inference/code/Users/dnn200001/output_frames/my_video_frames/frame_00450.jpg: 288x480 4 Players, Done. (0.018s)\nimage 32/47 /mnt/batch/tasks/shared/LS_root/mounts/clusters/gpu-inference/code/Users/dnn200001/output_frames/my_video_frames/frame_00465.jpg: 288x480 4 Players, Done. (0.018s)\nimage 33/47 /mnt/batch/tasks/shared/LS_root/mounts/clusters/gpu-inference/code/Users/dnn200001/output_frames/my_video_frames/frame_00480.jpg: 288x480 4 Players, Done. (0.018s)\nimage 34/47 /mnt/batch/tasks/shared/LS_root/mounts/clusters/gpu-inference/code/Users/dnn200001/output_frames/my_video_frames/frame_00495.jpg: 288x480 3 Players, Done. (0.018s)\nimage 35/47 /mnt/batch/tasks/shared/LS_root/mounts/clusters/gpu-inference/code/Users/dnn200001/output_frames/my_video_frames/frame_00510.jpg: 288x480 3 Players, Done. (0.018s)\nimage 36/47 /mnt/batch/tasks/shared/LS_root/mounts/clusters/gpu-inference/code/Users/dnn200001/output_frames/my_video_frames/frame_00525.jpg: 288x480 3 Players, Done. (0.018s)\nimage 37/47 /mnt/batch/tasks/shared/LS_root/mounts/clusters/gpu-inference/code/Users/dnn200001/output_frames/my_video_frames/frame_00540.jpg: 288x480 5 Players, Done. (0.018s)\nimage 38/47 /mnt/batch/tasks/shared/LS_root/mounts/clusters/gpu-inference/code/Users/dnn200001/output_frames/my_video_frames/frame_00555.jpg: 288x480 3 Players, Done. (0.018s)\nimage 39/47 /mnt/batch/tasks/shared/LS_root/mounts/clusters/gpu-inference/code/Users/dnn200001/output_frames/my_video_frames/frame_00570.jpg: 288x480 3 Players, Done. (0.018s)\nimage 40/47 /mnt/batch/tasks/shared/LS_root/mounts/clusters/gpu-inference/code/Users/dnn200001/output_frames/my_video_frames/frame_00585.jpg: 288x480 3 Players, Done. (0.018s)\nimage 41/47 /mnt/batch/tasks/shared/LS_root/mounts/clusters/gpu-inference/code/Users/dnn200001/output_frames/my_video_frames/frame_00600.jpg: 288x480 3 Players, Done. (0.018s)\nimage 42/47 /mnt/batch/tasks/shared/LS_root/mounts/clusters/gpu-inference/code/Users/dnn200001/output_frames/my_video_frames/frame_00615.jpg: 288x480 2 Players, Done. (0.018s)\nimage 43/47 /mnt/batch/tasks/shared/LS_root/mounts/clusters/gpu-inference/code/Users/dnn200001/output_frames/my_video_frames/frame_00630.jpg: 288x480 4 Players, Done. (0.018s)\nimage 44/47 /mnt/batch/tasks/shared/LS_root/mounts/clusters/gpu-inference/code/Users/dnn200001/output_frames/my_video_frames/frame_00645.jpg: 288x480 2 Players, Done. (0.018s)\nimage 45/47 /mnt/batch/tasks/shared/LS_root/mounts/clusters/gpu-inference/code/Users/dnn200001/output_frames/my_video_frames/frame_00660.jpg: 288x480 3 Players, Done. (0.018s)\nimage 46/47 /mnt/batch/tasks/shared/LS_root/mounts/clusters/gpu-inference/code/Users/dnn200001/output_frames/my_video_frames/frame_00675.jpg: 288x480 5 Players, Done. (0.018s)\nimage 47/47 /mnt/batch/tasks/shared/LS_root/mounts/clusters/gpu-inference/code/Users/dnn200001/output_frames/my_video_frames/frame_00690.jpg: 288x480 5 Players, Done. (0.018s)\nSpeed: 0.3ms pre-process, 18.3ms inference, 9.0ms NMS per image at shape (1, 3, 480, 480)\nhttps://videos.nba.com/nba/pbp/media/2014/10/29/0021400014/10/12650f87-0685-f553-05c8-11f9a6401910_1280x720.mp4\n\u001b[34m\u001b[1mdetect: \u001b[0mweights=['yolov5/runs/train/yolov5s_results/weights/last.pt'], source=output_frames/my_video_frames, data=yolov5/data/coco128.yaml, imgsz=[480, 480], conf_thres=0.5, iou_thres=0.45, max_det=1000, device=, view_img=False, save_txt=False, save_conf=False, save_crop=True, nosave=True, classes=[3], agnostic_nms=False, augment=False, visualize=False, update=False, project=yolov5/runs/detect, name=MISS, exist_ok=False, line_thickness=3, hide_labels=False, hide_conf=False, half=False, dnn=False\nYOLOv5 🚀 v6.1-306-gfbe67e4 Python-3.8.10 torch-1.8.1+cu102 CUDA:0 (Tesla K80, 11441MiB)\n\nFusing layers... \ncustom_YOLOv5s summary: 232 layers, 7268094 parameters, 0 gradients, 16.8 GFLOPs\nimage 1/55 /mnt/batch/tasks/shared/LS_root/mounts/clusters/gpu-inference/code/Users/dnn200001/output_frames/my_video_frames/frame_00000.jpg: 288x480 7 Players, Done. (0.018s)\nimage 2/55 /mnt/batch/tasks/shared/LS_root/mounts/clusters/gpu-inference/code/Users/dnn200001/output_frames/my_video_frames/frame_00015.jpg: 288x480 6 Players, Done. (0.018s)\nimage 3/55 /mnt/batch/tasks/shared/LS_root/mounts/clusters/gpu-inference/code/Users/dnn200001/output_frames/my_video_frames/frame_00030.jpg: 288x480 4 Players, Done. (0.018s)\nimage 4/55 /mnt/batch/tasks/shared/LS_root/mounts/clusters/gpu-inference/code/Users/dnn200001/output_frames/my_video_frames/frame_00045.jpg: 288x480 6 Players, Done. (0.019s)\nimage 5/55 /mnt/batch/tasks/shared/LS_root/mounts/clusters/gpu-inference/code/Users/dnn200001/output_frames/my_video_frames/frame_00060.jpg: 288x480 4 Players, Done. (0.018s)\nimage 6/55 /mnt/batch/tasks/shared/LS_root/mounts/clusters/gpu-inference/code/Users/dnn200001/output_frames/my_video_frames/frame_00075.jpg: 288x480 3 Players, Done. (0.018s)\nimage 7/55 /mnt/batch/tasks/shared/LS_root/mounts/clusters/gpu-inference/code/Users/dnn200001/output_frames/my_video_frames/frame_00090.jpg: 288x480 4 Players, Done. (0.018s)\nimage 8/55 /mnt/batch/tasks/shared/LS_root/mounts/clusters/gpu-inference/code/Users/dnn200001/output_frames/my_video_frames/frame_00105.jpg: 288x480 4 Players, Done. (0.018s)\nimage 9/55 /mnt/batch/tasks/shared/LS_root/mounts/clusters/gpu-inference/code/Users/dnn200001/output_frames/my_video_frames/frame_00120.jpg: 288x480 4 Players, Done. (0.018s)\nimage 10/55 /mnt/batch/tasks/shared/LS_root/mounts/clusters/gpu-inference/code/Users/dnn200001/output_frames/my_video_frames/frame_00135.jpg: 288x480 6 Players, Done. (0.018s)\nimage 11/55 /mnt/batch/tasks/shared/LS_root/mounts/clusters/gpu-inference/code/Users/dnn200001/output_frames/my_video_frames/frame_00150.jpg: 288x480 6 Players, Done. (0.018s)\nimage 12/55 /mnt/batch/tasks/shared/LS_root/mounts/clusters/gpu-inference/code/Users/dnn200001/output_frames/my_video_frames/frame_00165.jpg: 288x480 6 Players, Done. (0.018s)\nimage 13/55 /mnt/batch/tasks/shared/LS_root/mounts/clusters/gpu-inference/code/Users/dnn200001/output_frames/my_video_frames/frame_00180.jpg: 288x480 7 Players, Done. (0.018s)\nimage 14/55 /mnt/batch/tasks/shared/LS_root/mounts/clusters/gpu-inference/code/Users/dnn200001/output_frames/my_video_frames/frame_00195.jpg: 288x480 6 Players, Done. (0.018s)\nimage 15/55 /mnt/batch/tasks/shared/LS_root/mounts/clusters/gpu-inference/code/Users/dnn200001/output_frames/my_video_frames/frame_00210.jpg: 288x480 4 Players, Done. (0.018s)\nimage 16/55 /mnt/batch/tasks/shared/LS_root/mounts/clusters/gpu-inference/code/Users/dnn200001/output_frames/my_video_frames/frame_00225.jpg: 288x480 5 Players, Done. (0.018s)\nimage 17/55 /mnt/batch/tasks/shared/LS_root/mounts/clusters/gpu-inference/code/Users/dnn200001/output_frames/my_video_frames/frame_00240.jpg: 288x480 5 Players, Done. (0.018s)\nimage 18/55 /mnt/batch/tasks/shared/LS_root/mounts/clusters/gpu-inference/code/Users/dnn200001/output_frames/my_video_frames/frame_00255.jpg: 288x480 6 Players, Done. (0.018s)\nimage 19/55 /mnt/batch/tasks/shared/LS_root/mounts/clusters/gpu-inference/code/Users/dnn200001/output_frames/my_video_frames/frame_00270.jpg: 288x480 4 Players, Done. (0.018s)\nimage 20/55 /mnt/batch/tasks/shared/LS_root/mounts/clusters/gpu-inference/code/Users/dnn200001/output_frames/my_video_frames/frame_00285.jpg: 288x480 6 Players, Done. (0.018s)\nimage 21/55 /mnt/batch/tasks/shared/LS_root/mounts/clusters/gpu-inference/code/Users/dnn200001/output_frames/my_video_frames/frame_00300.jpg: 288x480 5 Players, Done. (0.018s)\nimage 22/55 /mnt/batch/tasks/shared/LS_root/mounts/clusters/gpu-inference/code/Users/dnn200001/output_frames/my_video_frames/frame_00315.jpg: 288x480 6 Players, Done. (0.018s)\nimage 23/55 /mnt/batch/tasks/shared/LS_root/mounts/clusters/gpu-inference/code/Users/dnn200001/output_frames/my_video_frames/frame_00330.jpg: 288x480 5 Players, Done. (0.018s)\nimage 24/55 /mnt/batch/tasks/shared/LS_root/mounts/clusters/gpu-inference/code/Users/dnn200001/output_frames/my_video_frames/frame_00345.jpg: 288x480 4 Players, Done. (0.018s)\nimage 25/55 /mnt/batch/tasks/shared/LS_root/mounts/clusters/gpu-inference/code/Users/dnn200001/output_frames/my_video_frames/frame_00360.jpg: 288x480 5 Players, Done. (0.018s)\nimage 26/55 /mnt/batch/tasks/shared/LS_root/mounts/clusters/gpu-inference/code/Users/dnn200001/output_frames/my_video_frames/frame_00375.jpg: 288x480 3 Players, Done. (0.018s)\nimage 27/55 /mnt/batch/tasks/shared/LS_root/mounts/clusters/gpu-inference/code/Users/dnn200001/output_frames/my_video_frames/frame_00390.jpg: 288x480 4 Players, Done. (0.018s)\nimage 28/55 /mnt/batch/tasks/shared/LS_root/mounts/clusters/gpu-inference/code/Users/dnn200001/output_frames/my_video_frames/frame_00405.jpg: 288x480 4 Players, Done. (0.018s)\nimage 29/55 /mnt/batch/tasks/shared/LS_root/mounts/clusters/gpu-inference/code/Users/dnn200001/output_frames/my_video_frames/frame_00420.jpg: 288x480 4 Players, Done. (0.018s)\nimage 30/55 /mnt/batch/tasks/shared/LS_root/mounts/clusters/gpu-inference/code/Users/dnn200001/output_frames/my_video_frames/frame_00435.jpg: 288x480 5 Players, Done. (0.022s)\nimage 31/55 /mnt/batch/tasks/shared/LS_root/mounts/clusters/gpu-inference/code/Users/dnn200001/output_frames/my_video_frames/frame_00450.jpg: 288x480 6 Players, Done. (0.018s)\nimage 32/55 /mnt/batch/tasks/shared/LS_root/mounts/clusters/gpu-inference/code/Users/dnn200001/output_frames/my_video_frames/frame_00465.jpg: 288x480 5 Players, Done. (0.018s)\nimage 33/55 /mnt/batch/tasks/shared/LS_root/mounts/clusters/gpu-inference/code/Users/dnn200001/output_frames/my_video_frames/frame_00480.jpg: 288x480 7 Players, Done. (0.019s)\nimage 34/55 /mnt/batch/tasks/shared/LS_root/mounts/clusters/gpu-inference/code/Users/dnn200001/output_frames/my_video_frames/frame_00495.jpg: 288x480 6 Players, Done. (0.018s)\nimage 35/55 /mnt/batch/tasks/shared/LS_root/mounts/clusters/gpu-inference/code/Users/dnn200001/output_frames/my_video_frames/frame_00510.jpg: 288x480 6 Players, Done. (0.018s)\nimage 36/55 /mnt/batch/tasks/shared/LS_root/mounts/clusters/gpu-inference/code/Users/dnn200001/output_frames/my_video_frames/frame_00525.jpg: 288x480 9 Players, Done. (0.018s)\nimage 37/55 /mnt/batch/tasks/shared/LS_root/mounts/clusters/gpu-inference/code/Users/dnn200001/output_frames/my_video_frames/frame_00540.jpg: 288x480 7 Players, Done. (0.018s)\nimage 38/55 /mnt/batch/tasks/shared/LS_root/mounts/clusters/gpu-inference/code/Users/dnn200001/output_frames/my_video_frames/frame_00555.jpg: 288x480 7 Players, Done. (0.019s)\nimage 39/55 /mnt/batch/tasks/shared/LS_root/mounts/clusters/gpu-inference/code/Users/dnn200001/output_frames/my_video_frames/frame_00570.jpg: 288x480 9 Players, Done. (0.018s)\nimage 40/55 /mnt/batch/tasks/shared/LS_root/mounts/clusters/gpu-inference/code/Users/dnn200001/output_frames/my_video_frames/frame_00585.jpg: 288x480 8 Players, Done. (0.018s)\nimage 41/55 /mnt/batch/tasks/shared/LS_root/mounts/clusters/gpu-inference/code/Users/dnn200001/output_frames/my_video_frames/frame_00600.jpg: 288x480 9 Players, Done. (0.018s)\nimage 42/55 /mnt/batch/tasks/shared/LS_root/mounts/clusters/gpu-inference/code/Users/dnn200001/output_frames/my_video_frames/frame_00615.jpg: 288x480 9 Players, Done. (0.018s)\nimage 43/55 /mnt/batch/tasks/shared/LS_root/mounts/clusters/gpu-inference/code/Users/dnn200001/output_frames/my_video_frames/frame_00630.jpg: 288x480 10 Players, Done. (0.018s)\nimage 44/55 /mnt/batch/tasks/shared/LS_root/mounts/clusters/gpu-inference/code/Users/dnn200001/output_frames/my_video_frames/frame_00645.jpg: 288x480 7 Players, Done. (0.018s)\nimage 45/55 /mnt/batch/tasks/shared/LS_root/mounts/clusters/gpu-inference/code/Users/dnn200001/output_frames/my_video_frames/frame_00660.jpg: 288x480 8 Players, Done. (0.018s)\nimage 46/55 /mnt/batch/tasks/shared/LS_root/mounts/clusters/gpu-inference/code/Users/dnn200001/output_frames/my_video_frames/frame_00675.jpg: 288x480 7 Players, Done. (0.018s)\nimage 47/55 /mnt/batch/tasks/shared/LS_root/mounts/clusters/gpu-inference/code/Users/dnn200001/output_frames/my_video_frames/frame_00690.jpg: 288x480 6 Players, Done. (0.018s)\nimage 48/55 /mnt/batch/tasks/shared/LS_root/mounts/clusters/gpu-inference/code/Users/dnn200001/output_frames/my_video_frames/frame_00705.jpg: 288x480 6 Players, Done. (0.018s)\nimage 49/55 /mnt/batch/tasks/shared/LS_root/mounts/clusters/gpu-inference/code/Users/dnn200001/output_frames/my_video_frames/frame_00720.jpg: 288x480 6 Players, Done. (0.018s)\nimage 50/55 /mnt/batch/tasks/shared/LS_root/mounts/clusters/gpu-inference/code/Users/dnn200001/output_frames/my_video_frames/frame_00735.jpg: 288x480 6 Players, Done. (0.018s)\nimage 51/55 /mnt/batch/tasks/shared/LS_root/mounts/clusters/gpu-inference/code/Users/dnn200001/output_frames/my_video_frames/frame_00750.jpg: 288x480 6 Players, Done. (0.018s)\nimage 52/55 /mnt/batch/tasks/shared/LS_root/mounts/clusters/gpu-inference/code/Users/dnn200001/output_frames/my_video_frames/frame_00765.jpg: 288x480 5 Players, Done. (0.018s)\nimage 53/55 /mnt/batch/tasks/shared/LS_root/mounts/clusters/gpu-inference/code/Users/dnn200001/output_frames/my_video_frames/frame_00780.jpg: 288x480 6 Players, Done. (0.018s)\nimage 54/55 /mnt/batch/tasks/shared/LS_root/mounts/clusters/gpu-inference/code/Users/dnn200001/output_frames/my_video_frames/frame_00795.jpg: 288x480 5 Players, Done. (0.018s)\nimage 55/55 /mnt/batch/tasks/shared/LS_root/mounts/clusters/gpu-inference/code/Users/dnn200001/output_frames/my_video_frames/frame_00810.jpg: 288x480 6 Players, Done. (0.018s)\nSpeed: 0.3ms pre-process, 18.3ms inference, 1.4ms NMS per image at shape (1, 3, 480, 480)\n"
        }
      ],
      "execution_count": 10,
      "metadata": {
        "jupyter": {
          "source_hidden": false,
          "outputs_hidden": false
        },
        "nteract": {
          "transient": {
            "deleting": false
          }
        },
        "gather": {
          "logged": 1682620361497
        }
      }
    },
    {
      "cell_type": "code",
      "source": [
        "%cd ~/cloudfiles/code/Users/dnn200001/\r\n",
        "\r\n",
        "DETECT_ROOT = \"yolov5/runs/detect\"\r\n",
        "\r\n",
        "classifier_interpreter = tf.lite.Interpreter(model_content=open(\"pose_classifier.tflite\", \"rb\").read())\r\n",
        "classifier_interpreter.allocate_tensors()\r\n",
        "input_details = classifier_interpreter.get_input_details()\r\n",
        "output_details = classifier_interpreter.get_output_details()\r\n",
        "\r\n",
        "images_in_folder = DETECT_ROOT\r\n",
        "images_out_folder = 'IGNORE'\r\n",
        "csvs_out_path = 'poses_output.csv'\r\n",
        "\r\n",
        "\r\n",
        "\r\n",
        "preprocessor = MoveNetPreprocessor(\r\n",
        "      images_in_folder=images_in_folder,\r\n",
        "      images_out_folder=images_out_folder,\r\n",
        "      csvs_out_path=csvs_out_path,\r\n",
        "  )\r\n",
        "\r\n",
        "validCount = preprocessor.process(per_pose_class_limit=None)\r\n",
        "#load the poses into dataframe for detection\r\n",
        "\r\n",
        "poseToClassify, y, classes, df_test = load_pose_landmarks(csvs_out_path)\r\n",
        "\r\n",
        "poseResults = poseInference(classifier_interpreter, poseToClassify)\r\n",
        "\r\n"
      ],
      "outputs": [
        {
          "output_type": "stream",
          "name": "stdout",
          "text": "/mnt/batch/tasks/shared/LS_root/mounts/clusters/gpu-inference/code/Users/dnn200001\nSkipped yolov5/runs/detect/MISS/frame_000156.jpg. No pose was confidentlly detected.\nSkipped yolov5/runs/detect/MISS/frame_002704.jpg. No pose was confidentlly detected.\nSkipped yolov5/runs/detect/MISS/frame_002852.jpg. No pose was confidentlly detected.\nSkipped yolov5/runs/detect/MISS/frame_002853.jpg. No pose was confidentlly detected.\nSkipped yolov5/runs/detect/MISS/frame_002856.jpg. No pose was confidentlly detected.\nSkipped yolov5/runs/detect/MISS/frame_00300.jpg. No pose was confidentlly detected.\nSkipped yolov5/runs/detect/MISS/frame_00315.jpg. No pose was confidentlly detected.\nSkipped yolov5/runs/detect/MISS/frame_00345.jpg. No pose was confidentlly detected.\nSkipped yolov5/runs/detect/MISS/frame_00375.jpg. No pose was confidentlly detected.\nSkipped yolov5/runs/detect/MISS/frame_004052.jpg. No pose was confidentlly detected.\nSkipped yolov5/runs/detect/MISS/frame_004202.jpg. No pose was confidentlly detected.\nSkipped yolov5/runs/detect/MISS/frame_005403.jpg. No pose was confidentlly detected.\nSkipped yolov5/runs/detect/MISS2/frame_00000.jpg. No pose was confidentlly detected.\nSkipped yolov5/runs/detect/MISS2/frame_000152.jpg. No pose was confidentlly detected.\nSkipped yolov5/runs/detect/MISS2/frame_002852.jpg. No pose was confidentlly detected.\nSkipped yolov5/runs/detect/MISS2/frame_005402.jpg. No pose was confidentlly detected.\nSkipped yolov5/runs/detect/MISS2/frame_005407.jpg. No pose was confidentlly detected.\nSkipped yolov5/runs/detect/MISS2/frame_00555.jpg. No pose was confidentlly detected.\nSkipped yolov5/runs/detect/MISS2/frame_005554.jpg. No pose was confidentlly detected.\nSkipped yolov5/runs/detect/MISS2/frame_005557.jpg. No pose was confidentlly detected.\nSkipped yolov5/runs/detect/MISS2/frame_005704.jpg. No pose was confidentlly detected.\nSkipped yolov5/runs/detect/MISS2/frame_00585.jpg. No pose was confidentlly detected.\nSkipped yolov5/runs/detect/MISS2/frame_005852.jpg. No pose was confidentlly detected.\nSkipped yolov5/runs/detect/MISS2/frame_00615.jpg. No pose was confidentlly detected.\nSkipped yolov5/runs/detect/MISS2/frame_006156.jpg. No pose was confidentlly detected.\nSkipped yolov5/runs/detect/MISS2/frame_006452.jpg. No pose was confidentlly detected.\nSkipped yolov5/runs/detect/MISS2/frame_006456.jpg. No pose was confidentlly detected.\nSkipped yolov5/runs/detect/MISS2-copy/frame_00000.jpg. No pose was confidentlly detected.\nSkipped yolov5/runs/detect/MISS2-copy/frame_000152.jpg. No pose was confidentlly detected.\nSkipped yolov5/runs/detect/MISS2-copy/frame_002852.jpg. No pose was confidentlly detected.\nSkipped yolov5/runs/detect/MISS2-copy/frame_005402.jpg. No pose was confidentlly detected.\nSkipped yolov5/runs/detect/MISS2-copy/frame_005407.jpg. No pose was confidentlly detected.\nSkipped yolov5/runs/detect/MISS2-copy/frame_00555.jpg. No pose was confidentlly detected.\nSkipped yolov5/runs/detect/MISS2-copy/frame_005554.jpg. No pose was confidentlly detected.\nSkipped yolov5/runs/detect/MISS2-copy/frame_005557.jpg. No pose was confidentlly detected.\nSkipped yolov5/runs/detect/MISS2-copy/frame_005704.jpg. No pose was confidentlly detected.\nSkipped yolov5/runs/detect/MISS2-copy/frame_00585.jpg. No pose was confidentlly detected.\nSkipped yolov5/runs/detect/MISS2-copy/frame_005852.jpg. No pose was confidentlly detected.\nSkipped yolov5/runs/detect/MISS2-copy/frame_00615.jpg. No pose was confidentlly detected.\nSkipped yolov5/runs/detect/MISS2-copy/frame_006156.jpg. No pose was confidentlly detected.\nSkipped yolov5/runs/detect/MISS2-copy/frame_006452.jpg. No pose was confidentlly detected.\nSkipped yolov5/runs/detect/MISS2-copy/frame_006456.jpg. No pose was confidentlly detected.\nSkipped yolov5/runs/detect/MISS3/frame_000156.jpg. No pose was confidentlly detected.\nSkipped yolov5/runs/detect/MISS3/frame_00030.jpg. No pose was confidentlly detected.\nSkipped yolov5/runs/detect/MISS3/frame_000304.jpg. No pose was confidentlly detected.\nSkipped yolov5/runs/detect/MISS3/frame_00045.jpg. No pose was confidentlly detected.\nSkipped yolov5/runs/detect/MISS3/frame_000454.jpg. No pose was confidentlly detected.\nSkipped yolov5/runs/detect/MISS3/frame_00060.jpg. No pose was confidentlly detected.\nSkipped yolov5/runs/detect/MISS3/frame_000754.jpg. No pose was confidentlly detected.\nSkipped yolov5/runs/detect/MISS3/frame_000903.jpg. No pose was confidentlly detected.\nSkipped yolov5/runs/detect/MISS3/frame_001205.jpg. No pose was confidentlly detected.\nSkipped yolov5/runs/detect/MISS3/frame_001206.jpg. No pose was confidentlly detected.\nSkipped yolov5/runs/detect/MISS3/frame_001354.jpg. No pose was confidentlly detected.\nSkipped yolov5/runs/detect/MISS3/frame_001653.jpg. No pose was confidentlly detected.\nSkipped yolov5/runs/detect/MISS3/frame_001952.jpg. No pose was confidentlly detected.\nSkipped yolov5/runs/detect/MISS3/frame_002102.jpg. No pose was confidentlly detected.\nSkipped yolov5/runs/detect/MISS3/frame_002252.jpg. No pose was confidentlly detected.\nSkipped yolov5/runs/detect/MISS3/frame_00240.jpg. No pose was confidentlly detected.\nSkipped yolov5/runs/detect/MISS3/frame_002402.jpg. No pose was confidentlly detected.\nSkipped yolov5/runs/detect/MISS3/frame_002704.jpg. No pose was confidentlly detected.\nSkipped yolov5/runs/detect/MISS3/frame_002852.jpg. No pose was confidentlly detected.\nSkipped yolov5/runs/detect/MISS3/frame_002853.jpg. No pose was confidentlly detected.\nSkipped yolov5/runs/detect/MISS3/frame_002856.jpg. No pose was confidentlly detected.\nSkipped yolov5/runs/detect/MISS3/frame_00300.jpg. No pose was confidentlly detected.\nSkipped yolov5/runs/detect/MISS3/frame_00315.jpg. No pose was confidentlly detected.\nSkipped yolov5/runs/detect/MISS3/frame_00345.jpg. No pose was confidentlly detected.\nSkipped yolov5/runs/detect/MISS3/frame_00375.jpg. No pose was confidentlly detected.\nSkipped yolov5/runs/detect/MISS3/frame_004052.jpg. No pose was confidentlly detected.\nSkipped yolov5/runs/detect/MISS3/frame_004202.jpg. No pose was confidentlly detected.\nSkipped yolov5/runs/detect/MISS3/frame_005403.jpg. No pose was confidentlly detected.\nSkipped yolov5/runs/detect/MISS3/frame_00600.jpg. No pose was confidentlly detected.\nSkipped yolov5/runs/detect/MISS3/frame_006302.jpg. No pose was confidentlly detected.\nSkipped yolov5/runs/detect/MISS3/frame_00645.jpg. No pose was confidentlly detected.\nSkipped yolov5/runs/detect/MISS3/frame_006602.jpg. No pose was confidentlly detected.\nSkipped yolov5/runs/detect/MISS3/frame_00675.jpg. No pose was confidentlly detected.\nSkipped yolov5/runs/detect/MISS4/frame_00000.jpg. No pose was confidentlly detected.\nSkipped yolov5/runs/detect/MISS4/frame_000152.jpg. No pose was confidentlly detected.\nSkipped yolov5/runs/detect/MISS4/frame_000155.jpg. No pose was confidentlly detected.\nSkipped yolov5/runs/detect/MISS4/frame_000156.jpg. No pose was confidentlly detected.\nSkipped yolov5/runs/detect/MISS4/frame_00030.jpg. No pose was confidentlly detected.\nSkipped yolov5/runs/detect/MISS4/frame_000303.jpg. No pose was confidentlly detected.\nSkipped yolov5/runs/detect/MISS4/frame_000452.jpg. No pose was confidentlly detected.\nSkipped yolov5/runs/detect/MISS4/frame_000453.jpg. No pose was confidentlly detected.\nSkipped yolov5/runs/detect/MISS4/frame_000456.jpg. No pose was confidentlly detected.\nSkipped yolov5/runs/detect/MISS4/frame_00060.jpg. No pose was confidentlly detected.\nSkipped yolov5/runs/detect/MISS4/frame_000604.jpg. No pose was confidentlly detected.\nSkipped yolov5/runs/detect/MISS4/frame_00075.jpg. No pose was confidentlly detected.\nSkipped yolov5/runs/detect/MISS4/frame_00090.jpg. No pose was confidentlly detected.\nSkipped yolov5/runs/detect/MISS4/frame_000904.jpg. No pose was confidentlly detected.\nSkipped yolov5/runs/detect/MISS4/frame_001054.jpg. No pose was confidentlly detected.\nSkipped yolov5/runs/detect/MISS4/frame_00120.jpg. No pose was confidentlly detected.\nSkipped yolov5/runs/detect/MISS4/frame_001352.jpg. No pose was confidentlly detected.\nSkipped yolov5/runs/detect/MISS4/frame_00180.jpg. No pose was confidentlly detected.\nSkipped yolov5/runs/detect/MISS4/frame_001953.jpg. No pose was confidentlly detected.\nSkipped yolov5/runs/detect/MISS4/frame_00210.jpg. No pose was confidentlly detected.\nSkipped yolov5/runs/detect/MISS4/frame_00285.jpg. No pose was confidentlly detected.\nSkipped yolov5/runs/detect/MISS4/frame_002852.jpg. No pose was confidentlly detected.\nSkipped yolov5/runs/detect/MISS4/frame_002856.jpg. No pose was confidentlly detected.\nSkipped yolov5/runs/detect/MISS4/frame_003156.jpg. No pose was confidentlly detected.\nSkipped yolov5/runs/detect/MISS4/frame_00330.jpg. No pose was confidentlly detected.\nSkipped yolov5/runs/detect/MISS4/frame_003304.jpg. No pose was confidentlly detected.\nSkipped yolov5/runs/detect/MISS4/frame_00345.jpg. No pose was confidentlly detected.\nSkipped yolov5/runs/detect/MISS4/frame_00360.jpg. No pose was confidentlly detected.\nSkipped yolov5/runs/detect/MISS4/frame_003602.jpg. No pose was confidentlly detected.\nSkipped yolov5/runs/detect/MISS4/frame_003603.jpg. No pose was confidentlly detected.\nSkipped yolov5/runs/detect/MISS4/frame_00375.jpg. No pose was confidentlly detected.\nSkipped yolov5/runs/detect/MISS4/frame_00390.jpg. No pose was confidentlly detected.\nSkipped yolov5/runs/detect/MISS4/frame_004053.jpg. No pose was confidentlly detected.\nSkipped yolov5/runs/detect/MISS4/frame_004202.jpg. No pose was confidentlly detected.\nSkipped yolov5/runs/detect/MISS4/frame_004353.jpg. No pose was confidentlly detected.\nSkipped yolov5/runs/detect/MISS4/frame_004355.jpg. No pose was confidentlly detected.\nSkipped yolov5/runs/detect/MISS4/frame_00450.jpg. No pose was confidentlly detected.\nSkipped yolov5/runs/detect/MISS4/frame_004803.jpg. No pose was confidentlly detected.\nSkipped yolov5/runs/detect/MISS4/frame_00495.jpg. No pose was confidentlly detected.\nSkipped yolov5/runs/detect/MISS4/frame_005102.jpg. No pose was confidentlly detected.\nSkipped yolov5/runs/detect/MISS4/frame_005103.jpg. No pose was confidentlly detected.\nSkipped yolov5/runs/detect/MISS4/frame_005259.jpg. No pose was confidentlly detected.\nSkipped yolov5/runs/detect/MISS4/frame_005402.jpg. No pose was confidentlly detected.\nSkipped yolov5/runs/detect/MISS4/frame_005407.jpg. No pose was confidentlly detected.\nSkipped yolov5/runs/detect/MISS4/frame_00555.jpg. No pose was confidentlly detected.\nSkipped yolov5/runs/detect/MISS4/frame_005554.jpg. No pose was confidentlly detected.\nSkipped yolov5/runs/detect/MISS4/frame_005557.jpg. No pose was confidentlly detected.\nSkipped yolov5/runs/detect/MISS4/frame_005704.jpg. No pose was confidentlly detected.\nSkipped yolov5/runs/detect/MISS4/frame_00585.jpg. No pose was confidentlly detected.\nSkipped yolov5/runs/detect/MISS4/frame_005852.jpg. No pose was confidentlly detected.\nSkipped yolov5/runs/detect/MISS4/frame_00615.jpg. No pose was confidentlly detected.\nSkipped yolov5/runs/detect/MISS4/frame_006156.jpg. No pose was confidentlly detected.\nSkipped yolov5/runs/detect/MISS4/frame_006452.jpg. No pose was confidentlly detected.\nSkipped yolov5/runs/detect/MISS4/frame_006456.jpg. No pose was confidentlly detected.\nSkipped yolov5/runs/detect/MISS4/frame_007053.jpg. No pose was confidentlly detected.\nSkipped yolov5/runs/detect/MISS4/frame_007205.jpg. No pose was confidentlly detected.\nSkipped yolov5/runs/detect/MISS4/frame_007652.jpg. No pose was confidentlly detected.\nSkipped yolov5/runs/detect/MISS4/frame_007803.jpg. No pose was confidentlly detected.\nSkipped yolov5/runs/detect/MISS4/frame_007804.jpg. No pose was confidentlly detected.\nSkipped yolov5/runs/detect/MISS4/frame_008102.jpg. No pose was confidentlly detected.\n"
        },
        {
          "output_type": "stream",
          "name": "stderr",
          "text": "Preprocessing MISS\n  0%|          | 0/98 [00:00<?, ?it/s]2023-04-27 18:32:41.278508: I tensorflow/core/platform/cpu_feature_guard.cc:193] This TensorFlow binary is optimized with oneAPI Deep Neural Network Library (oneDNN) to use the following CPU instructions in performance-critical operations:  AVX2 FMA\nTo enable them in other operations, rebuild TensorFlow with the appropriate compiler flags.\n2023-04-27 18:32:42.612154: I tensorflow/core/common_runtime/gpu/gpu_device.cc:1613] Created device /job:localhost/replica:0/task:0/device:GPU:0 with 10601 MB memory:  -> device: 0, name: Tesla K80, pci bus id: 0001:00:00.0, compute capability: 3.7\n/tmp/ipykernel_30923/485740632.py:130: DeprecationWarning: `np.str` is a deprecated alias for the builtin `str`. To silence this warning, use `str` by itself. Doing this will not modify any behavior and is safe. If you specifically wanted the numpy scalar type, use `np.str_` here.\nDeprecated in NumPy 1.20; for more details and guidance: https://numpy.org/devdocs/release/1.20.0-notes.html#deprecations\n  coordinates = pose_landmarks.flatten().astype(np.str).tolist()\n100%|██████████| 98/98 [00:09<00:00,  9.80it/s]\nPreprocessing MISS2\n100%|██████████| 98/98 [00:08<00:00, 11.94it/s]\nPreprocessing MISS2-copy\n100%|██████████| 98/98 [00:08<00:00, 11.97it/s]\nPreprocessing MISS3\n100%|██████████| 209/209 [00:18<00:00, 11.16it/s]\nPreprocessing MISS4\n100%|██████████| 320/320 [00:29<00:00, 10.89it/s]\n"
        }
      ],
      "execution_count": 11,
      "metadata": {
        "jupyter": {
          "source_hidden": false,
          "outputs_hidden": false
        },
        "nteract": {
          "transient": {
            "deleting": false
          }
        },
        "gather": {
          "logged": 1682620436684
        }
      }
    },
    {
      "cell_type": "code",
      "source": [
        "className = fileName\r\n",
        "\r\n",
        "category2num = {\r\n",
        "    \"MISS\": 0,\r\n",
        "    \"GOAL\": 1,\r\n",
        "    \"ASSIST\": 2,\r\n",
        "    \"STEAL\": 3,\r\n",
        "    \"BLOCK\": 4,\r\n",
        "    \"TURNOVER\": 5,\r\n",
        "    \"REBOUND\": 6\r\n",
        "}\r\n",
        "\r\n",
        "num2category = [category2num[key] for key in category2num.keys()]\r\n",
        "\r\n",
        "\r\n",
        "\r\n",
        "import collections\r\n",
        "fileName, counts = np.unique(classes.to_numpy(), return_counts=True)\r\n",
        "\r\n",
        "output = []\r\n",
        "start = 0\r\n",
        "\r\n",
        "for num in counts:\r\n",
        "    end = start + num\r\n",
        "    output.append(poseResults[start:end])\r\n",
        "    start = end\r\n",
        "\r\n",
        "rows = 10\r\n",
        "posesArr = [[] for i in range(rows)]\r\n",
        "\r\n",
        "for poseCountI in range(len(output)):\r\n",
        "    counter = collections.Counter(output[poseCountI])\r\n",
        "    for i in range(10):\r\n",
        "        #It return a percentage of each action\r\n",
        "        posesArr[i].append(counter[i]/len(output[poseCountI]))\r\n",
        "\r\n",
        "\r\n",
        "df = pd.DataFrame({\r\n",
        "    'ball_in_hand': posesArr[0],\r\n",
        "    'block': posesArr[1],\r\n",
        "    'defense': posesArr[2],\r\n",
        "    'dribble': posesArr[3],\r\n",
        "    'no_action': posesArr[4],\r\n",
        "    'pass': posesArr[5],\r\n",
        "    'pick': posesArr[6],\r\n",
        "    'run': posesArr[7],\r\n",
        "    'shoot': posesArr[8],\r\n",
        "    'walk': posesArr[9],\r\n",
        "    'class': category2num[className]\r\n",
        "})\r\n",
        "\r\n"
      ],
      "outputs": [
        {
          "output_type": "stream",
          "name": "stdout",
          "text": "   ball_in_hand     block   defense   dribble  no_action  pass  pick  \\\n0      0.023256  0.000000  0.000000  0.058140   0.093023   0.0   0.0   \n1      0.048193  0.024096  0.000000  0.024096   0.204819   0.0   0.0   \n2      0.048193  0.024096  0.000000  0.024096   0.204819   0.0   0.0   \n3      0.022727  0.022727  0.005682  0.045455   0.193182   0.0   0.0   \n4      0.030769  0.023077  0.023077  0.069231   0.180769   0.0   0.0   \n\n        run     shoot      walk  class  \n0  0.104651  0.011628  0.709302      0  \n1  0.012048  0.036145  0.650602      0  \n2  0.012048  0.036145  0.650602      0  \n3  0.102273  0.005682  0.602273      0  \n4  0.057692  0.015385  0.600000      0  \n"
        }
      ],
      "execution_count": 12,
      "metadata": {
        "jupyter": {
          "source_hidden": false,
          "outputs_hidden": false
        },
        "nteract": {
          "transient": {
            "deleting": false
          }
        },
        "gather": {
          "logged": 1682620436852
        }
      }
    },
    {
      "cell_type": "code",
      "source": [
        "X = df.drop(columns=['class'])\r\n",
        "y = df['class']\r\n",
        "\r\n",
        "from sklearn.ensemble import RandomForestClassifier\r\n",
        "from sklearn.model_selection import train_test_split\r\n",
        "from sklearn.metrics import accuracy_score\r\n",
        "\r\n",
        "\r\n",
        "X_train, X_test, y_train, y_test = train_test_split(X,y,test_size=0.9)\r\n",
        "\r\n",
        "clf = RandomForestClassifier()\r\n",
        "clf.fit(X_train,y_train)\r\n",
        "\r\n",
        "predictions = clf.predict(X_test)\r\n",
        "\r\n",
        "score = accuracy_score(y_test,predictions)\r\n",
        "score"
      ],
      "outputs": [],
      "execution_count": null,
      "metadata": {
        "jupyter": {
          "source_hidden": false,
          "outputs_hidden": false
        },
        "nteract": {
          "transient": {
            "deleting": false
          }
        }
      }
    }
  ],
  "metadata": {
    "kernelspec": {
      "name": "python38-azureml-pt-tf",
      "language": "python",
      "display_name": "Python 3.8 - Pytorch and Tensorflow"
    },
    "language_info": {
      "name": "python",
      "version": "3.8.5",
      "mimetype": "text/x-python",
      "codemirror_mode": {
        "name": "ipython",
        "version": 3
      },
      "pygments_lexer": "ipython3",
      "nbconvert_exporter": "python",
      "file_extension": ".py"
    },
    "microsoft": {
      "ms_spell_check": {
        "ms_spell_check_language": "en"
      },
      "host": {
        "AzureML": {
          "notebookHasBeenCompleted": true
        }
      }
    },
    "kernel_info": {
      "name": "python38-azureml-pt-tf"
    },
    "nteract": {
      "version": "nteract-front-end@1.0.0"
    }
  },
  "nbformat": 4,
  "nbformat_minor": 2
}