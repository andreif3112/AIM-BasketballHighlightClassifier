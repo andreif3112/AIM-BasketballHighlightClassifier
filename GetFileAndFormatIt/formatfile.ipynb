{
 "cells": [
  {
   "cell_type": "markdown",
   "source": [
    "This code will read the JSON file and convert it to a CSV file.\n"
   ],
   "metadata": {
    "collapsed": false
   }
  },
  {
   "cell_type": "code",
   "execution_count": 2,
   "outputs": [],
   "source": [
    "import pandas as pd\n",
    "label = './dataset/annotation_dict.json'\n",
    "videoFolder = './dataset/examples'\n",
    "\n",
    "\n",
    "def readJson():\n",
    "    import json\n",
    "    with open(label) as f:\n",
    "        data = json.load(f)\n",
    "    return data\n",
    "\n",
    "def deleteFile(file):\n",
    "    import os\n",
    "    if os.path.exists(file):\n",
    "        os.remove(file)\n",
    "    else:\n",
    "        print(\"The file does not exist\")\n",
    "\n",
    "                                                    data = readJson()\n",
    "                                                    AllDF = pd.DataFrame(data, index = [0])\n",
    "                                                    AllDF = AllDF.transpose()\n",
    "                                                    AllDF.to_csv('./dataset/annotation.csv', index = True, header = False)\n",
    "                                                    AllDF = pd.read_csv('./dataset/annotation.csv', header = None)\n",
    "                                                    AllDF.columns = ['video', 'label']\n"
   ],
   "metadata": {
    "collapsed": false
   }
  },
  {
   "cell_type": "markdown",
   "source": [],
   "metadata": {
    "collapsed": false
   }
  },
  {
   "cell_type": "code",
   "execution_count": 3,
   "outputs": [],
   "source": [
    "\n",
    "def incrementOnceinDF(df, column):\n",
    "    df[column] = df[column] + 1\n",
    "    return df\n",
    "\n",
    "def countLabel(df):\n",
    "    for i in range(0,10):\n",
    "        print('Label', i, ':', len(df[df['label'] == i]))\n",
    "\n",
    "def makeFolder(folder):\n",
    "    import os\n",
    "    if not os.path.exists(folder):\n",
    "        os.makedirs(folder)\n",
    "\n",
    "def splitDataFrame(DF):\n",
    "    splitIndex = int(len(DF)*.8)\n",
    "    df1 = DF.iloc[:splitIndex]\n",
    "    df2 = DF.iloc[splitIndex:]\n",
    "    return df1, df2\n",
    "\n",
    "incrementOnceinDF(AllDF, 'label')\n",
    "\n",
    "trainDFlist = []\n",
    "valDFlist = []\n",
    "for i in range(1,11):\n",
    "    df = AllDF[AllDF['label'] == i]\n",
    "    df = df.reset_index(drop = True)\n",
    "    tDF, vDF = splitDataFrame(df)\n",
    "    trainDFlist.append(tDF)\n",
    "    valDFlist.append(vDF)\n",
    "\n",
    "trainDF = pd.concat(trainDFlist)\n",
    "valDF = pd.concat(valDFlist)\n",
    "\n",
    "trainDF.sort_values(by = ['video'], inplace = True, ignore_index=True)\n",
    "valDF.sort_values(by = ['video'], inplace = True,ignore_index=True)\n"
   ],
   "metadata": {
    "collapsed": false
   }
  },
  {
   "cell_type": "code",
   "execution_count": 4,
   "outputs": [
    {
     "data": {
      "text/plain": "     video  label\n0  0000000      2\n1  0000001      3\n2  0000003      3\n3  0000004      3\n4  0000005      3",
      "text/html": "<div>\n<style scoped>\n    .dataframe tbody tr th:only-of-type {\n        vertical-align: middle;\n    }\n\n    .dataframe tbody tr th {\n        vertical-align: top;\n    }\n\n    .dataframe thead th {\n        text-align: right;\n    }\n</style>\n<table border=\"1\" class=\"dataframe\">\n  <thead>\n    <tr style=\"text-align: right;\">\n      <th></th>\n      <th>video</th>\n      <th>label</th>\n    </tr>\n  </thead>\n  <tbody>\n    <tr>\n      <th>0</th>\n      <td>0000000</td>\n      <td>2</td>\n    </tr>\n    <tr>\n      <th>1</th>\n      <td>0000001</td>\n      <td>3</td>\n    </tr>\n    <tr>\n      <th>2</th>\n      <td>0000003</td>\n      <td>3</td>\n    </tr>\n    <tr>\n      <th>3</th>\n      <td>0000004</td>\n      <td>3</td>\n    </tr>\n    <tr>\n      <th>4</th>\n      <td>0000005</td>\n      <td>3</td>\n    </tr>\n  </tbody>\n</table>\n</div>"
     },
     "execution_count": 4,
     "metadata": {},
     "output_type": "execute_result"
    }
   ],
   "source": [
    "trainDF.head()\n"
   ],
   "metadata": {
    "collapsed": false
   }
  },
  {
   "cell_type": "code",
   "execution_count": 5,
   "outputs": [],
   "source": [
    "def checkFile(file):\n",
    "    import os\n",
    "    if os.path.exists(file):\n",
    "        return True\n",
    "    else:\n",
    "        return False\n",
    "\n",
    "def moveFile(origin, destination):\n",
    "    import shutil\n",
    "    shutil.move(origin, destination)\n",
    "\n",
    "trainFolder = './dataset/train'\n",
    "valFolder = './dataset/val'\n",
    "\n",
    "makeFolder(trainFolder)\n",
    "makeFolder(valFolder)\n",
    "\n",
    "for index, row in trainDF.iterrows():\n",
    "    videoName = row['video']\n",
    "    videoFile = videoFolder + '/' + videoName + '.mp4'\n",
    "    if checkFile(videoFile):\n",
    "        moveFile(videoFile, valFolder)\n",
    "\n",
    "\n",
    "for index, row in valDF.iterrows():\n",
    "    videoName = row['video']\n",
    "\n",
    "    videoFile = videoFolder + '/' + videoName + '.mp4'\n",
    "    if checkFile(videoFile):\n",
    "        moveFile(videoFile, valFolder)"
   ],
   "metadata": {
    "collapsed": false
   }
  },
  {
   "cell_type": "code",
   "execution_count": 6,
   "outputs": [],
   "source": [
    "trainDF.to_csv('./dataset/train_video', index = False, header = False)\n",
    "valDF.to_csv('./dataset/val_video', index = False, header = False)\n"
   ],
   "metadata": {
    "collapsed": false
   }
  },
  {
   "cell_type": "code",
   "execution_count": 7,
   "outputs": [],
   "source": [
    "def changeFileExtension(file, extension):\n",
    "    import os\n",
    "    os.rename(file, file + extension)\n",
    "\n",
    "deleteFile('./dataset/train_video.txt')\n",
    "deleteFile('./dataset/val_video.txt')\n",
    "changeFileExtension('./dataset/train_video', '.txt')\n",
    "changeFileExtension('./dataset/val_video', '.txt')\n"
   ],
   "metadata": {
    "collapsed": false
   }
  },
  {
   "cell_type": "code",
   "execution_count": 8,
   "outputs": [],
   "source": [
    "def removeComma(file):\n",
    "    with open(file, 'r') as f:\n",
    "        lines = f.readlines()\n",
    "    with open(file, 'w') as f:\n",
    "        for line in lines:\n",
    "            f.write(line.replace(',','.mp4 '))\n",
    "\n",
    "removeComma('./dataset/train_video.txt')\n",
    "removeComma('./dataset/val_video.txt')"
   ],
   "metadata": {
    "collapsed": false
   }
  },
  {
   "cell_type": "code",
   "execution_count": 8,
   "outputs": [],
   "source": [],
   "metadata": {
    "collapsed": false
   }
  },
  {
   "cell_type": "code",
   "execution_count": null,
   "outputs": [],
   "source": [],
   "metadata": {
    "collapsed": false
   }
  }
 ],
 "metadata": {
  "kernelspec": {
   "display_name": "Python 3",
   "language": "python",
   "name": "python3"
  },
  "language_info": {
   "codemirror_mode": {
    "name": "ipython",
    "version": 2
   },
   "file_extension": ".py",
   "mimetype": "text/x-python",
   "name": "python",
   "nbconvert_exporter": "python",
   "pygments_lexer": "ipython2",
   "version": "2.7.6"
  }
 },
 "nbformat": 4,
 "nbformat_minor": 0
}
