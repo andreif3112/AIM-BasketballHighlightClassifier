{
 "cells": [
  {
   "cell_type": "code",
   "execution_count": 8,
   "outputs": [],
   "source": [
    "import pandas as pd\n",
    "import numpy as np\n",
    "import matplotlib.pyplot as plt\n",
    "from IPython.display import clear_output"
   ],
   "metadata": {
    "collapsed": false,
    "ExecuteTime": {
     "start_time": "2023-04-28T18:20:38.337060Z",
     "end_time": "2023-04-28T18:20:38.346050Z"
    }
   }
  },
  {
   "cell_type": "code",
   "execution_count": 9,
   "outputs": [],
   "source": [
    "#Fake Data\n",
    "toPredict = pd.DataFrame({\n",
    "    'ball_in_hand': [.2],\n",
    "    'block': [.2],\n",
    "    'defense': [.2],\n",
    "    'dribble': [.2],\n",
    "    'no_action': [.2],\n",
    "    'pass': [.2],\n",
    "    'pick': [.2],\n",
    "    'run': [.2],\n",
    "    'shoot': [.2],\n",
    "    'walk': [.2],\n",
    "})\n"
   ],
   "metadata": {
    "collapsed": false,
    "ExecuteTime": {
     "start_time": "2023-04-28T18:20:38.350056Z",
     "end_time": "2023-04-28T18:20:38.372756Z"
    }
   }
  },
  {
   "cell_type": "code",
   "execution_count": 10,
   "outputs": [],
   "source": [
    "category2num = {\n",
    "    \"MISS\": 0,\n",
    "    \"ASSIST\": 1,\n",
    "    \"STEAL\": 2,\n",
    "    \"BLOCK\": 3,\n",
    "    \"TURNOVER\": 4,\n",
    "    \"REBOUND\": 5\n",
    "}\n",
    "\n",
    "num2category = [key for key in category2num.keys()]\n"
   ],
   "metadata": {
    "collapsed": false,
    "ExecuteTime": {
     "start_time": "2023-04-28T18:20:38.366052Z",
     "end_time": "2023-04-28T18:20:38.379766Z"
    }
   }
  },
  {
   "cell_type": "code",
   "execution_count": 24,
   "metadata": {
    "collapsed": true,
    "ExecuteTime": {
     "start_time": "2023-04-28T18:27:41.790645Z",
     "end_time": "2023-04-28T18:27:41.987643Z"
    }
   },
   "outputs": [
    {
     "name": "stdout",
     "output_type": "stream",
     "text": [
      "This highlights is classified as REBOUND with a probability of 0.36\n"
     ]
    }
   ],
   "source": [
    "df = pd.read_csv(\"ScikitData.csv\")\n",
    "X = df.drop(columns=['class'])\n",
    "y = df['class']\n",
    "\n",
    "from sklearn.ensemble import RandomForestClassifier\n",
    "from sklearn.model_selection import train_test_split\n",
    "from sklearn.metrics import accuracy_score\n",
    "\n",
    "\n",
    "X_train, X_test, y_train, y_test = train_test_split(X,y,test_size=0.01)\n",
    "\n",
    "clf = RandomForestClassifier()\n",
    "clf.fit(X_train,y_train)\n",
    "\n",
    "probability = clf.predict_proba(toPredict)\n",
    "\n",
    "#####THE MOMMENT WE WAIT FOR, THIS GIVE THE ANSWER THAT WE WANTED\n",
    "\n",
    "clear_output(wait=True)\n",
    "prediction = probability[0]\n",
    "print(\"This highlights is classified as \" + num2category[np.argmax(prediction)] + \" with a probability of \" + str(max(prediction)))\n",
    "\n"
   ]
  },
  {
   "cell_type": "code",
   "execution_count": 19,
   "outputs": [],
   "source": [],
   "metadata": {
    "collapsed": false,
    "ExecuteTime": {
     "start_time": "2023-04-28T18:26:38.905234Z",
     "end_time": "2023-04-28T18:26:38.923230Z"
    }
   }
  },
  {
   "cell_type": "code",
   "execution_count": null,
   "outputs": [],
   "source": [],
   "metadata": {
    "collapsed": false
   }
  }
 ],
 "metadata": {
  "kernelspec": {
   "display_name": "Python 3",
   "language": "python",
   "name": "python3"
  },
  "language_info": {
   "codemirror_mode": {
    "name": "ipython",
    "version": 2
   },
   "file_extension": ".py",
   "mimetype": "text/x-python",
   "name": "python",
   "nbconvert_exporter": "python",
   "pygments_lexer": "ipython2",
   "version": "2.7.6"
  }
 },
 "nbformat": 4,
 "nbformat_minor": 0
}
