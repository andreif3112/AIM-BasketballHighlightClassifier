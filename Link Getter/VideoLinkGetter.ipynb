{
 "cells": [
  {
   "cell_type": "code",
   "execution_count": 4,
   "metadata": {
    "collapsed": true,
    "ExecuteTime": {
     "start_time": "2023-04-27T16:30:03.780863Z",
     "end_time": "2023-04-27T16:30:03.938862Z"
    }
   },
   "outputs": [],
   "source": [
    "import requests\n",
    "import csv\n",
    "import time\n",
    "import pandas as pd\n",
    "import numpy as np\n",
    "\n",
    "import random\n",
    "\n",
    "from selenium import webdriver\n",
    "from selenium.webdriver.chrome.service import Service as BraveService\n",
    "from webdriver_manager.chrome import ChromeDriverManager\n",
    "from webdriver_manager.core.utils import ChromeType\n",
    "\n",
    "\n",
    "\n",
    "\n",
    "from selenium.webdriver.support.ui import WebDriverWait\n",
    "from selenium.webdriver.common.by import By\n",
    "from selenium.webdriver.support import expected_conditions as EC\n",
    "import os.path\n",
    "import time\n"
   ]
  },
  {
   "cell_type": "markdown",
   "source": [],
   "metadata": {
    "collapsed": false
   }
  },
  {
   "cell_type": "code",
   "execution_count": 5,
   "outputs": [
    {
     "name": "stderr",
     "output_type": "stream",
     "text": [
      "[WDM] - Downloading: 100%|██████████| 6.79M/6.79M [00:01<00:00, 4.69MB/s]\n"
     ]
    },
    {
     "ename": "AttributeError",
     "evalue": "'NoneType' object has no attribute 'click'",
     "output_type": "error",
     "traceback": [
      "\u001B[1;31m---------------------------------------------------------------------------\u001B[0m",
      "\u001B[1;31mAttributeError\u001B[0m                            Traceback (most recent call last)",
      "Cell \u001B[1;32mIn[5], line 41\u001B[0m\n\u001B[0;32m     38\u001B[0m     \u001B[38;5;28;01mexcept\u001B[39;00m:\n\u001B[0;32m     39\u001B[0m          \u001B[38;5;28;01mpass\u001B[39;00m\n\u001B[1;32m---> 41\u001B[0m \u001B[38;5;28;43mall\u001B[39;49m\u001B[38;5;241;43m.\u001B[39;49m\u001B[43mclick\u001B[49m()\n\u001B[0;32m     43\u001B[0m wait\u001B[38;5;241m.\u001B[39muntil(EC\u001B[38;5;241m.\u001B[39mpresence_of_element_located((By\u001B[38;5;241m.\u001B[39mXPATH,\u001B[38;5;124m\"\u001B[39m\u001B[38;5;124m//tr[@data-has-video=\u001B[39m\u001B[38;5;124m'\u001B[39m\u001B[38;5;124mtrue\u001B[39m\u001B[38;5;124m'\u001B[39m\u001B[38;5;124m]\u001B[39m\u001B[38;5;124m\"\u001B[39m)))\n\u001B[0;32m     44\u001B[0m AllVidElement \u001B[38;5;241m=\u001B[39m driver\u001B[38;5;241m.\u001B[39mfind_elements(By\u001B[38;5;241m.\u001B[39mXPATH, \u001B[38;5;124m'\u001B[39m\u001B[38;5;124m//tr[@data-has-video=\u001B[39m\u001B[38;5;124m\"\u001B[39m\u001B[38;5;124mtrue\u001B[39m\u001B[38;5;124m\"\u001B[39m\u001B[38;5;124m]\u001B[39m\u001B[38;5;124m'\u001B[39m)\n",
      "\u001B[1;31mAttributeError\u001B[0m: 'NoneType' object has no attribute 'click'"
     ]
    }
   ],
   "source": [
    "\n",
    "URL = \"https://www.nba.com/stats/events/?CFID=&CFPARAMS=&ContextMeasure=OREB&GameID=&PlayerID=0&Season=2022-23&SeasonType=Regular%20Season&TeamID=1610612749&flag=1&sct=plot&section=game\"\n",
    "\n",
    "fileName = \"MISS\" #This will be for later, in case we want to save\n",
    "NUMVIDS = 50 #Number of video per each link\n",
    "\n",
    "wantedFilterOn = True #Wanted Filter Bool, set to False if wanted list is empty.\n",
    "#The title must have ALL substring in wanted list and NONE substring in unwanted list to get included.\n",
    "wantedTitleStrList = [\"MISS\"] #List of substring to look for in the title.\n",
    "unWantedTitleStrList = [\"BLOCK\"] #List of substring that will ignore in the title.\n",
    "\n",
    "#Creating the driver\n",
    "driver = webdriver.Chrome(service=BraveService(ChromeDriverManager(chrome_type=ChromeType.BRAVE).install()))\n",
    "\n",
    "\n",
    "wait = WebDriverWait(driver, 1)\n",
    "\n",
    "\n",
    "\n",
    "\n",
    "###########################################################################################################\n",
    "# AllVidsDf = pd.DataFrame()\n",
    "# categoryDf = pd.read_csv('CategoryLinks.csv')\n",
    "# # Putting the wanted category in the wanted string\n",
    "# wantedDf = categoryDf[categoryDf['links'].str.contains(wantedLink)==True]\n",
    "#\n",
    "# main_url = \"https://www.nba.com\" + wantedDf[\"links\"].loc[wantedDf.index[LINK_INDEX - 1]]\n",
    "\n",
    "\n",
    "driver.get(URL)\n",
    "\n",
    "time.sleep(5)\n",
    "#This is to set the page to list all the video\n",
    "all = None\n",
    "for i in range(0,10):\n",
    "    try:\n",
    "        # connect\n",
    "        all = wait.until(EC.presence_of_element_located((By.XPATH, \"//option[@value = '-1']\")))\n",
    "    except:\n",
    "         pass\n",
    "\n",
    "all.click()\n",
    "\n",
    "wait.until(EC.presence_of_element_located((By.XPATH,\"//tr[@data-has-video='true']\")))\n",
    "AllVidElement = driver.find_elements(By.XPATH, '//tr[@data-has-video=\"true\"]')\n",
    "print(len(AllVidElement))\n",
    "vidDown = 0\n",
    "vidList = []\n",
    "for vidButton in AllVidElement:\n",
    "    driver.execute_script(\"arguments[0].click();\", vidButton)\n",
    "    videoElement = wait.until(EC.presence_of_element_located((By.XPATH, \"//video\")))\n",
    "    vidLinks = videoElement.get_attribute(\"src\")\n",
    "    titleElement = driver.find_element(By.TAG_NAME, 'h2')\n",
    "    titleString = titleElement.text\n",
    "    unwantedBool = any(ele in titleString for ele in unWantedTitleStrList)\n",
    "    wantedBool = (not wantedFilterOn or any(ele in titleString for ele in wantedTitleStrList))\n",
    "    if not wantedBool or unwantedBool:\n",
    "        continue\n",
    "\n",
    "    #add it to our list\n",
    "    vidList.append({'link' : vidLinks, 'title': titleString})\n",
    "    vidDown = vidDown + 1\n",
    "    print(vidDown)\n",
    "    if vidDown >= NUMVIDS:\n",
    "        break\n",
    "\n",
    "vidDf = pd.DataFrame(vidList)\n",
    "driver.quit()\n",
    "\n"
   ],
   "metadata": {
    "collapsed": false
   }
  },
  {
   "cell_type": "markdown",
   "source": [
    "0The code below will save the links we got to an existing csv file by appending it"
   ],
   "metadata": {
    "collapsed": false
   }
  },
  {
   "cell_type": "code",
   "execution_count": 25,
   "outputs": [
    {
     "name": "stdout",
     "output_type": "stream",
     "text": [
      "(349, 2)\n"
     ]
    }
   ],
   "source": [
    "path = \"Saved/\"\n",
    "finalFileName = path + fileName + \".csv\"\n",
    "\n",
    "try:\n",
    "    test = pd.read_csv(finalFileName)\n",
    "except:\n",
    "    vidDf.to_csv(finalFileName, index= False,  header=True)\n",
    "else:\n",
    "    vidDf.to_csv(finalFileName, mode='a', index= False, header=False)\n",
    "\n",
    "#The Code below is used to filter out the duplicates\n",
    "df = pd.read_csv(finalFileName)\n",
    "df = df.drop_duplicates(subset=[\"link\"], keep=\"first\")\n",
    "print(df.shape)\n",
    "df.to_csv(finalFileName, index= False, header=True)\n",
    "\n"
   ],
   "metadata": {
    "collapsed": false
   }
  },
  {
   "cell_type": "markdown",
   "source": [],
   "metadata": {
    "collapsed": false
   }
  }
 ],
 "metadata": {
  "kernelspec": {
   "display_name": "Python 3",
   "language": "python",
   "name": "python3"
  },
  "language_info": {
   "codemirror_mode": {
    "name": "ipython",
    "version": 2
   },
   "file_extension": ".py",
   "mimetype": "text/x-python",
   "name": "python",
   "nbconvert_exporter": "python",
   "pygments_lexer": "ipython2",
   "version": "2.7.6"
  }
 },
 "nbformat": 4,
 "nbformat_minor": 0
}
